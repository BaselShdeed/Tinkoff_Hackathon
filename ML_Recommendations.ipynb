{
 "cells": [
  {
   "cell_type": "code",
   "execution_count": 3,
   "metadata": {},
   "outputs": [],
   "source": [
    "import os\n",
    "from datetime import datetime, timedelta\n",
    "import datetime\n",
    "from collections import defaultdict, Counter\n",
    "import numpy as np\n",
    "import pandas as pd\n",
    "from tqdm import tqdm"
   ]
  },
  {
   "cell_type": "code",
   "execution_count": 4,
   "metadata": {},
   "outputs": [],
   "source": [
    "DATADIR = \"D:\\My Computer\\Local H\\Skoltech Docs\\Courses\\HackLab\\hackathon_data\" # \"./data\"\n",
    "transactions_path = f\"{DATADIR}/avk_hackathon_data_transactions.csv\"\n",
    "df = pd.read_csv(f\"{DATADIR}/avk_hackathon_data_transactions.csv\")"
   ]
  },
  {
   "cell_type": "markdown",
   "metadata": {},
   "source": [
    "# Feature Generation\n",
    "## We generated the following features:\n",
    "1. Holiday check"
   ]
  },
  {
   "cell_type": "code",
   "execution_count": 7,
   "metadata": {},
   "outputs": [],
   "source": [
    "dates = pd.to_datetime(df['transaction_dttm'], format = '%Y-%m-%d')\n",
    "\n",
    "\n",
    "def weekend(date):\n",
    "    weekno = datetime.datetime(date.year,date.month,date.day).weekday()\n",
    "    if weekno<5:\n",
    "        return 0\n",
    "    else:\n",
    "        return 1\n",
    "\n",
    "dates = dates.apply(weekend)\n",
    "\n",
    "df[\"isweekend\"] = dates"
   ]
  },
  {
   "cell_type": "code",
   "execution_count": 8,
   "metadata": {},
   "outputs": [
    {
     "data": {
      "text/html": [
       "<div>\n",
       "<style scoped>\n",
       "    .dataframe tbody tr th:only-of-type {\n",
       "        vertical-align: middle;\n",
       "    }\n",
       "\n",
       "    .dataframe tbody tr th {\n",
       "        vertical-align: top;\n",
       "    }\n",
       "\n",
       "    .dataframe thead th {\n",
       "        text-align: right;\n",
       "    }\n",
       "</style>\n",
       "<table border=\"1\" class=\"dataframe\">\n",
       "  <thead>\n",
       "    <tr style=\"text-align: right;\">\n",
       "      <th></th>\n",
       "      <th>party_rk</th>\n",
       "      <th>account_rk</th>\n",
       "      <th>financial_account_type_cd</th>\n",
       "      <th>transaction_dttm</th>\n",
       "      <th>transaction_type_desc</th>\n",
       "      <th>transaction_amt_rur</th>\n",
       "      <th>merchant_rk</th>\n",
       "      <th>merchant_type</th>\n",
       "      <th>merchant_group_rk</th>\n",
       "      <th>category</th>\n",
       "      <th>isweekend</th>\n",
       "    </tr>\n",
       "  </thead>\n",
       "  <tbody>\n",
       "    <tr>\n",
       "      <th>0</th>\n",
       "      <td>20337</td>\n",
       "      <td>19666</td>\n",
       "      <td>1</td>\n",
       "      <td>2019-01-01</td>\n",
       "      <td>Покупка</td>\n",
       "      <td>84.00</td>\n",
       "      <td>88676.0</td>\n",
       "      <td>348.0</td>\n",
       "      <td>NaN</td>\n",
       "      <td>Сувениры</td>\n",
       "      <td>0</td>\n",
       "    </tr>\n",
       "    <tr>\n",
       "      <th>1</th>\n",
       "      <td>63404</td>\n",
       "      <td>72991</td>\n",
       "      <td>1</td>\n",
       "      <td>2019-01-01</td>\n",
       "      <td>Покупка</td>\n",
       "      <td>410.00</td>\n",
       "      <td>887248.0</td>\n",
       "      <td>330.0</td>\n",
       "      <td>725.0</td>\n",
       "      <td>Фаст Фуд</td>\n",
       "      <td>0</td>\n",
       "    </tr>\n",
       "    <tr>\n",
       "      <th>2</th>\n",
       "      <td>24789</td>\n",
       "      <td>23517</td>\n",
       "      <td>2</td>\n",
       "      <td>2019-01-01</td>\n",
       "      <td>Покупка</td>\n",
       "      <td>701.44</td>\n",
       "      <td>830014.0</td>\n",
       "      <td>291.0</td>\n",
       "      <td>NaN</td>\n",
       "      <td>Супермаркеты</td>\n",
       "      <td>0</td>\n",
       "    </tr>\n",
       "    <tr>\n",
       "      <th>3</th>\n",
       "      <td>57970</td>\n",
       "      <td>64838</td>\n",
       "      <td>2</td>\n",
       "      <td>2019-01-01</td>\n",
       "      <td>Покупка</td>\n",
       "      <td>6203.70</td>\n",
       "      <td>363834.0</td>\n",
       "      <td>278.0</td>\n",
       "      <td>454.0</td>\n",
       "      <td>Дом/Ремонт</td>\n",
       "      <td>0</td>\n",
       "    </tr>\n",
       "    <tr>\n",
       "      <th>4</th>\n",
       "      <td>12232</td>\n",
       "      <td>11591</td>\n",
       "      <td>2</td>\n",
       "      <td>2019-01-01</td>\n",
       "      <td>Покупка</td>\n",
       "      <td>734.53</td>\n",
       "      <td>85919.0</td>\n",
       "      <td>286.0</td>\n",
       "      <td>878.0</td>\n",
       "      <td>Супермаркеты</td>\n",
       "      <td>0</td>\n",
       "    </tr>\n",
       "    <tr>\n",
       "      <th>...</th>\n",
       "      <td>...</td>\n",
       "      <td>...</td>\n",
       "      <td>...</td>\n",
       "      <td>...</td>\n",
       "      <td>...</td>\n",
       "      <td>...</td>\n",
       "      <td>...</td>\n",
       "      <td>...</td>\n",
       "      <td>...</td>\n",
       "      <td>...</td>\n",
       "      <td>...</td>\n",
       "    </tr>\n",
       "    <tr>\n",
       "      <th>11987612</th>\n",
       "      <td>44990</td>\n",
       "      <td>111641</td>\n",
       "      <td>1</td>\n",
       "      <td>2019-12-31</td>\n",
       "      <td>Покупка</td>\n",
       "      <td>121.00</td>\n",
       "      <td>1940970.0</td>\n",
       "      <td>330.0</td>\n",
       "      <td>675.0</td>\n",
       "      <td>Фаст Фуд</td>\n",
       "      <td>0</td>\n",
       "    </tr>\n",
       "    <tr>\n",
       "      <th>11987613</th>\n",
       "      <td>53023</td>\n",
       "      <td>57593</td>\n",
       "      <td>2</td>\n",
       "      <td>2019-12-31</td>\n",
       "      <td>Покупка</td>\n",
       "      <td>102.29</td>\n",
       "      <td>1198564.0</td>\n",
       "      <td>286.0</td>\n",
       "      <td>NaN</td>\n",
       "      <td>Супермаркеты</td>\n",
       "      <td>0</td>\n",
       "    </tr>\n",
       "    <tr>\n",
       "      <th>11987614</th>\n",
       "      <td>78716</td>\n",
       "      <td>99133</td>\n",
       "      <td>1</td>\n",
       "      <td>2019-12-31</td>\n",
       "      <td>Покупка</td>\n",
       "      <td>175.00</td>\n",
       "      <td>2688766.0</td>\n",
       "      <td>229.0</td>\n",
       "      <td>901.0</td>\n",
       "      <td>Транспорт</td>\n",
       "      <td>0</td>\n",
       "    </tr>\n",
       "    <tr>\n",
       "      <th>11987615</th>\n",
       "      <td>73104</td>\n",
       "      <td>91039</td>\n",
       "      <td>2</td>\n",
       "      <td>2019-12-31</td>\n",
       "      <td>Покупка</td>\n",
       "      <td>185.99</td>\n",
       "      <td>1965313.0</td>\n",
       "      <td>286.0</td>\n",
       "      <td>878.0</td>\n",
       "      <td>Супермаркеты</td>\n",
       "      <td>0</td>\n",
       "    </tr>\n",
       "    <tr>\n",
       "      <th>11987616</th>\n",
       "      <td>42916</td>\n",
       "      <td>125082</td>\n",
       "      <td>1</td>\n",
       "      <td>2019-12-31</td>\n",
       "      <td>Покупка</td>\n",
       "      <td>431.00</td>\n",
       "      <td>2007688.0</td>\n",
       "      <td>330.0</td>\n",
       "      <td>675.0</td>\n",
       "      <td>Фаст Фуд</td>\n",
       "      <td>0</td>\n",
       "    </tr>\n",
       "  </tbody>\n",
       "</table>\n",
       "<p>11987617 rows × 11 columns</p>\n",
       "</div>"
      ],
      "text/plain": [
       "          party_rk  account_rk  financial_account_type_cd transaction_dttm  \\\n",
       "0            20337       19666                          1       2019-01-01   \n",
       "1            63404       72991                          1       2019-01-01   \n",
       "2            24789       23517                          2       2019-01-01   \n",
       "3            57970       64838                          2       2019-01-01   \n",
       "4            12232       11591                          2       2019-01-01   \n",
       "...            ...         ...                        ...              ...   \n",
       "11987612     44990      111641                          1       2019-12-31   \n",
       "11987613     53023       57593                          2       2019-12-31   \n",
       "11987614     78716       99133                          1       2019-12-31   \n",
       "11987615     73104       91039                          2       2019-12-31   \n",
       "11987616     42916      125082                          1       2019-12-31   \n",
       "\n",
       "         transaction_type_desc  transaction_amt_rur  merchant_rk  \\\n",
       "0                      Покупка                84.00      88676.0   \n",
       "1                      Покупка               410.00     887248.0   \n",
       "2                      Покупка               701.44     830014.0   \n",
       "3                      Покупка              6203.70     363834.0   \n",
       "4                      Покупка               734.53      85919.0   \n",
       "...                        ...                  ...          ...   \n",
       "11987612               Покупка               121.00    1940970.0   \n",
       "11987613               Покупка               102.29    1198564.0   \n",
       "11987614               Покупка               175.00    2688766.0   \n",
       "11987615               Покупка               185.99    1965313.0   \n",
       "11987616               Покупка               431.00    2007688.0   \n",
       "\n",
       "          merchant_type  merchant_group_rk      category  isweekend  \n",
       "0                 348.0                NaN      Сувениры          0  \n",
       "1                 330.0              725.0      Фаст Фуд          0  \n",
       "2                 291.0                NaN  Супермаркеты          0  \n",
       "3                 278.0              454.0    Дом/Ремонт          0  \n",
       "4                 286.0              878.0  Супермаркеты          0  \n",
       "...                 ...                ...           ...        ...  \n",
       "11987612          330.0              675.0      Фаст Фуд          0  \n",
       "11987613          286.0                NaN  Супермаркеты          0  \n",
       "11987614          229.0              901.0     Транспорт          0  \n",
       "11987615          286.0              878.0  Супермаркеты          0  \n",
       "11987616          330.0              675.0      Фаст Фуд          0  \n",
       "\n",
       "[11987617 rows x 11 columns]"
      ]
     },
     "execution_count": 8,
     "metadata": {},
     "output_type": "execute_result"
    }
   ],
   "source": [
    "df"
   ]
  },
  {
   "cell_type": "code",
   "execution_count": 9,
   "metadata": {},
   "outputs": [],
   "source": [
    "dates = pd.to_datetime(df['transaction_dttm'], format = '%Y-%m-%d')\n",
    "def get_month(date):\n",
    "    return date.month\n",
    "\n",
    "def get_day(date):\n",
    "    return date.day\n",
    "\n",
    "months = dates.apply(get_month)\n",
    "days = dates.apply(get_day)\n",
    "df_f = df.dropna()\n",
    "df_f.to_csv('transaction_dataset_modified.csv')"
   ]
  },
  {
   "cell_type": "code",
   "execution_count": 5,
   "metadata": {},
   "outputs": [],
   "source": [
    "#Load dataset\n",
    "df_f = pd.read_csv('transaction_dataset_modified.csv')"
   ]
  },
  {
   "cell_type": "code",
   "execution_count": 10,
   "metadata": {},
   "outputs": [
    {
     "data": {
      "text/html": [
       "<div>\n",
       "<style scoped>\n",
       "    .dataframe tbody tr th:only-of-type {\n",
       "        vertical-align: middle;\n",
       "    }\n",
       "\n",
       "    .dataframe tbody tr th {\n",
       "        vertical-align: top;\n",
       "    }\n",
       "\n",
       "    .dataframe thead th {\n",
       "        text-align: right;\n",
       "    }\n",
       "</style>\n",
       "<table border=\"1\" class=\"dataframe\">\n",
       "  <thead>\n",
       "    <tr style=\"text-align: right;\">\n",
       "      <th></th>\n",
       "      <th>party_rk</th>\n",
       "      <th>account_rk</th>\n",
       "      <th>financial_account_type_cd</th>\n",
       "      <th>transaction_dttm</th>\n",
       "      <th>transaction_type_desc</th>\n",
       "      <th>transaction_amt_rur</th>\n",
       "      <th>merchant_rk</th>\n",
       "      <th>merchant_type</th>\n",
       "      <th>merchant_group_rk</th>\n",
       "      <th>category</th>\n",
       "      <th>isweekend</th>\n",
       "    </tr>\n",
       "  </thead>\n",
       "  <tbody>\n",
       "    <tr>\n",
       "      <th>1</th>\n",
       "      <td>63404</td>\n",
       "      <td>72991</td>\n",
       "      <td>1</td>\n",
       "      <td>2019-01-01</td>\n",
       "      <td>Покупка</td>\n",
       "      <td>410.00</td>\n",
       "      <td>887248.0</td>\n",
       "      <td>330.0</td>\n",
       "      <td>725.0</td>\n",
       "      <td>Фаст Фуд</td>\n",
       "      <td>0</td>\n",
       "    </tr>\n",
       "    <tr>\n",
       "      <th>3</th>\n",
       "      <td>57970</td>\n",
       "      <td>64838</td>\n",
       "      <td>2</td>\n",
       "      <td>2019-01-01</td>\n",
       "      <td>Покупка</td>\n",
       "      <td>6203.70</td>\n",
       "      <td>363834.0</td>\n",
       "      <td>278.0</td>\n",
       "      <td>454.0</td>\n",
       "      <td>Дом/Ремонт</td>\n",
       "      <td>0</td>\n",
       "    </tr>\n",
       "    <tr>\n",
       "      <th>4</th>\n",
       "      <td>12232</td>\n",
       "      <td>11591</td>\n",
       "      <td>2</td>\n",
       "      <td>2019-01-01</td>\n",
       "      <td>Покупка</td>\n",
       "      <td>734.53</td>\n",
       "      <td>85919.0</td>\n",
       "      <td>286.0</td>\n",
       "      <td>878.0</td>\n",
       "      <td>Супермаркеты</td>\n",
       "      <td>0</td>\n",
       "    </tr>\n",
       "    <tr>\n",
       "      <th>5</th>\n",
       "      <td>51074</td>\n",
       "      <td>54639</td>\n",
       "      <td>2</td>\n",
       "      <td>2019-01-01</td>\n",
       "      <td>Покупка</td>\n",
       "      <td>366.60</td>\n",
       "      <td>146084.0</td>\n",
       "      <td>286.0</td>\n",
       "      <td>878.0</td>\n",
       "      <td>Супермаркеты</td>\n",
       "      <td>0</td>\n",
       "    </tr>\n",
       "    <tr>\n",
       "      <th>6</th>\n",
       "      <td>1534</td>\n",
       "      <td>5610</td>\n",
       "      <td>2</td>\n",
       "      <td>2019-01-01</td>\n",
       "      <td>Покупка</td>\n",
       "      <td>101.85</td>\n",
       "      <td>166649.0</td>\n",
       "      <td>286.0</td>\n",
       "      <td>341.0</td>\n",
       "      <td>Супермаркеты</td>\n",
       "      <td>0</td>\n",
       "    </tr>\n",
       "    <tr>\n",
       "      <th>...</th>\n",
       "      <td>...</td>\n",
       "      <td>...</td>\n",
       "      <td>...</td>\n",
       "      <td>...</td>\n",
       "      <td>...</td>\n",
       "      <td>...</td>\n",
       "      <td>...</td>\n",
       "      <td>...</td>\n",
       "      <td>...</td>\n",
       "      <td>...</td>\n",
       "      <td>...</td>\n",
       "    </tr>\n",
       "    <tr>\n",
       "      <th>11987609</th>\n",
       "      <td>53765</td>\n",
       "      <td>109370</td>\n",
       "      <td>1</td>\n",
       "      <td>2019-12-31</td>\n",
       "      <td>Покупка</td>\n",
       "      <td>3065.00</td>\n",
       "      <td>954580.0</td>\n",
       "      <td>313.0</td>\n",
       "      <td>261.0</td>\n",
       "      <td>Одежда/Обувь</td>\n",
       "      <td>0</td>\n",
       "    </tr>\n",
       "    <tr>\n",
       "      <th>11987612</th>\n",
       "      <td>44990</td>\n",
       "      <td>111641</td>\n",
       "      <td>1</td>\n",
       "      <td>2019-12-31</td>\n",
       "      <td>Покупка</td>\n",
       "      <td>121.00</td>\n",
       "      <td>1940970.0</td>\n",
       "      <td>330.0</td>\n",
       "      <td>675.0</td>\n",
       "      <td>Фаст Фуд</td>\n",
       "      <td>0</td>\n",
       "    </tr>\n",
       "    <tr>\n",
       "      <th>11987614</th>\n",
       "      <td>78716</td>\n",
       "      <td>99133</td>\n",
       "      <td>1</td>\n",
       "      <td>2019-12-31</td>\n",
       "      <td>Покупка</td>\n",
       "      <td>175.00</td>\n",
       "      <td>2688766.0</td>\n",
       "      <td>229.0</td>\n",
       "      <td>901.0</td>\n",
       "      <td>Транспорт</td>\n",
       "      <td>0</td>\n",
       "    </tr>\n",
       "    <tr>\n",
       "      <th>11987615</th>\n",
       "      <td>73104</td>\n",
       "      <td>91039</td>\n",
       "      <td>2</td>\n",
       "      <td>2019-12-31</td>\n",
       "      <td>Покупка</td>\n",
       "      <td>185.99</td>\n",
       "      <td>1965313.0</td>\n",
       "      <td>286.0</td>\n",
       "      <td>878.0</td>\n",
       "      <td>Супермаркеты</td>\n",
       "      <td>0</td>\n",
       "    </tr>\n",
       "    <tr>\n",
       "      <th>11987616</th>\n",
       "      <td>42916</td>\n",
       "      <td>125082</td>\n",
       "      <td>1</td>\n",
       "      <td>2019-12-31</td>\n",
       "      <td>Покупка</td>\n",
       "      <td>431.00</td>\n",
       "      <td>2007688.0</td>\n",
       "      <td>330.0</td>\n",
       "      <td>675.0</td>\n",
       "      <td>Фаст Фуд</td>\n",
       "      <td>0</td>\n",
       "    </tr>\n",
       "  </tbody>\n",
       "</table>\n",
       "<p>5270970 rows × 11 columns</p>\n",
       "</div>"
      ],
      "text/plain": [
       "          party_rk  account_rk  financial_account_type_cd transaction_dttm  \\\n",
       "1            63404       72991                          1       2019-01-01   \n",
       "3            57970       64838                          2       2019-01-01   \n",
       "4            12232       11591                          2       2019-01-01   \n",
       "5            51074       54639                          2       2019-01-01   \n",
       "6             1534        5610                          2       2019-01-01   \n",
       "...            ...         ...                        ...              ...   \n",
       "11987609     53765      109370                          1       2019-12-31   \n",
       "11987612     44990      111641                          1       2019-12-31   \n",
       "11987614     78716       99133                          1       2019-12-31   \n",
       "11987615     73104       91039                          2       2019-12-31   \n",
       "11987616     42916      125082                          1       2019-12-31   \n",
       "\n",
       "         transaction_type_desc  transaction_amt_rur  merchant_rk  \\\n",
       "1                      Покупка               410.00     887248.0   \n",
       "3                      Покупка              6203.70     363834.0   \n",
       "4                      Покупка               734.53      85919.0   \n",
       "5                      Покупка               366.60     146084.0   \n",
       "6                      Покупка               101.85     166649.0   \n",
       "...                        ...                  ...          ...   \n",
       "11987609               Покупка              3065.00     954580.0   \n",
       "11987612               Покупка               121.00    1940970.0   \n",
       "11987614               Покупка               175.00    2688766.0   \n",
       "11987615               Покупка               185.99    1965313.0   \n",
       "11987616               Покупка               431.00    2007688.0   \n",
       "\n",
       "          merchant_type  merchant_group_rk      category  isweekend  \n",
       "1                 330.0              725.0      Фаст Фуд          0  \n",
       "3                 278.0              454.0    Дом/Ремонт          0  \n",
       "4                 286.0              878.0  Супермаркеты          0  \n",
       "5                 286.0              878.0  Супермаркеты          0  \n",
       "6                 286.0              341.0  Супермаркеты          0  \n",
       "...                 ...                ...           ...        ...  \n",
       "11987609          313.0              261.0  Одежда/Обувь          0  \n",
       "11987612          330.0              675.0      Фаст Фуд          0  \n",
       "11987614          229.0              901.0     Транспорт          0  \n",
       "11987615          286.0              878.0  Супермаркеты          0  \n",
       "11987616          330.0              675.0      Фаст Фуд          0  \n",
       "\n",
       "[5270970 rows x 11 columns]"
      ]
     },
     "execution_count": 10,
     "metadata": {},
     "output_type": "execute_result"
    }
   ],
   "source": [
    "df_f"
   ]
  },
  {
   "cell_type": "markdown",
   "metadata": {},
   "source": [
    "# Machine Learning Models"
   ]
  },
  {
   "cell_type": "code",
   "execution_count": 11,
   "metadata": {},
   "outputs": [
    {
     "name": "stderr",
     "output_type": "stream",
     "text": [
      "C:\\Users\\basel\\anaconda3\\lib\\site-packages\\ipykernel_launcher.py:3: SettingWithCopyWarning: \n",
      "A value is trying to be set on a copy of a slice from a DataFrame.\n",
      "Try using .loc[row_indexer,col_indexer] = value instead\n",
      "\n",
      "See the caveats in the documentation: https://pandas.pydata.org/pandas-docs/stable/user_guide/indexing.html#returning-a-view-versus-a-copy\n",
      "  This is separate from the ipykernel package so we can avoid doing imports until\n",
      "C:\\Users\\basel\\anaconda3\\lib\\site-packages\\ipykernel_launcher.py:4: SettingWithCopyWarning: \n",
      "A value is trying to be set on a copy of a slice from a DataFrame.\n",
      "Try using .loc[row_indexer,col_indexer] = value instead\n",
      "\n",
      "See the caveats in the documentation: https://pandas.pydata.org/pandas-docs/stable/user_guide/indexing.html#returning-a-view-versus-a-copy\n",
      "  after removing the cwd from sys.path.\n"
     ]
    }
   ],
   "source": [
    "# Input/Output\n",
    "X = df_f[['party_rk','account_rk','financial_account_type_cd','isweekend']]\n",
    "X['Month'] = months\n",
    "X['Day'] = days\n",
    "Y2 = df_f[['merchant_type']]"
   ]
  },
  {
   "cell_type": "code",
   "execution_count": 15,
   "metadata": {},
   "outputs": [],
   "source": [
    "from sklearn.model_selection import train_test_split\n",
    "from sklearn.neighbors import KNeighborsClassifier\n",
    "from sklearn.metrics import accuracy_score\n",
    "from sklearn.model_selection import GridSearchCV"
   ]
  },
  {
   "cell_type": "code",
   "execution_count": 16,
   "metadata": {},
   "outputs": [],
   "source": [
    "X_train, X_test, y_train, y_test = train_test_split(X, Y2, test_size=0.3, random_state=42)"
   ]
  },
  {
   "cell_type": "code",
   "execution_count": 14,
   "metadata": {},
   "outputs": [
    {
     "name": "stderr",
     "output_type": "stream",
     "text": [
      "C:\\Users\\basel\\anaconda3\\lib\\site-packages\\ipykernel_launcher.py:3: DataConversionWarning: A column-vector y was passed when a 1d array was expected. Please change the shape of y to (n_samples, ), for example using ravel().\n",
      "  This is separate from the ipykernel package so we can avoid doing imports until\n"
     ]
    }
   ],
   "source": [
    "#Classification model (K Neighbors Classifier)\n",
    "\n",
    "KN_clf = KNeighborsClassifier(n_neighbors = 50 ,n_jobs=-1)\n",
    "model_fit = KN_clf.fit(X_train,y_train)"
   ]
  },
  {
   "cell_type": "code",
   "execution_count": 16,
   "metadata": {},
   "outputs": [],
   "source": [
    "y_pred = model_fit.predict(X_test)"
   ]
  },
  {
   "cell_type": "code",
   "execution_count": 17,
   "metadata": {},
   "outputs": [
    {
     "data": {
      "text/plain": [
       "0.46545449256335486"
      ]
     },
     "execution_count": 17,
     "metadata": {},
     "output_type": "execute_result"
    }
   ],
   "source": [
    "accuracy_score(y_test, y_pred)"
   ]
  },
  {
   "cell_type": "code",
   "execution_count": 12,
   "metadata": {},
   "outputs": [],
   "source": [
    "from sklearn.linear_model import SGDClassifier\n",
    "from sklearn.preprocessing import StandardScaler\n",
    "from sklearn.pipeline import make_pipeline"
   ]
  },
  {
   "cell_type": "code",
   "execution_count": 17,
   "metadata": {},
   "outputs": [
    {
     "name": "stderr",
     "output_type": "stream",
     "text": [
      "C:\\Users\\basel\\anaconda3\\lib\\site-packages\\sklearn\\utils\\validation.py:760: DataConversionWarning: A column-vector y was passed when a 1d array was expected. Please change the shape of y to (n_samples, ), for example using ravel().\n",
      "  y = column_or_1d(y, warn=True)\n"
     ]
    },
    {
     "data": {
      "text/plain": [
       "Pipeline(memory=None,\n",
       "         steps=[('standardscaler',\n",
       "                 StandardScaler(copy=True, with_mean=True, with_std=True)),\n",
       "                ('sgdclassifier',\n",
       "                 SGDClassifier(alpha=0.0001, average=False, class_weight=None,\n",
       "                               early_stopping=False, epsilon=0.1, eta0=0.0,\n",
       "                               fit_intercept=True, l1_ratio=0.15,\n",
       "                               learning_rate='optimal', loss='hinge',\n",
       "                               max_iter=1000, n_iter_no_change=5, n_jobs=None,\n",
       "                               penalty='l2', power_t=0.5, random_state=None,\n",
       "                               shuffle=True, tol=0.001, validation_fraction=0.1,\n",
       "                               verbose=0, warm_start=False))],\n",
       "         verbose=False)"
      ]
     },
     "execution_count": 17,
     "metadata": {},
     "output_type": "execute_result"
    }
   ],
   "source": [
    "#Stochastic Gradient Descent\n",
    "\n",
    "clf_sgd = make_pipeline(StandardScaler(),SGDClassifier(max_iter=1000, tol=1e-3))\n",
    "clf_sgd.fit(X_train, y_train)"
   ]
  },
  {
   "cell_type": "code",
   "execution_count": 20,
   "metadata": {},
   "outputs": [],
   "source": [
    "y_pred_sgd = clf_sgd.predict(X_test)"
   ]
  },
  {
   "cell_type": "code",
   "execution_count": 21,
   "metadata": {},
   "outputs": [
    {
     "data": {
      "text/plain": [
       "0.20101929372898472"
      ]
     },
     "execution_count": 21,
     "metadata": {},
     "output_type": "execute_result"
    }
   ],
   "source": [
    "accuracy_score(y_test, y_pred_sgd)"
   ]
  },
  {
   "cell_type": "code",
   "execution_count": 22,
   "metadata": {},
   "outputs": [],
   "source": [
    "from sklearn.naive_bayes import GaussianNB"
   ]
  },
  {
   "cell_type": "code",
   "execution_count": 23,
   "metadata": {},
   "outputs": [
    {
     "name": "stderr",
     "output_type": "stream",
     "text": [
      "C:\\Users\\basel\\anaconda3\\lib\\site-packages\\sklearn\\naive_bayes.py:206: DataConversionWarning: A column-vector y was passed when a 1d array was expected. Please change the shape of y to (n_samples, ), for example using ravel().\n",
      "  y = column_or_1d(y, warn=True)\n"
     ]
    }
   ],
   "source": [
    "#Naive Bayes\n",
    "\n",
    "NB_classifier = GaussianNB()\n",
    "NB_classifier.fit(X_train, y_train)\n",
    "y_pred_NB = NB_classifier.predict(X_test)"
   ]
  },
  {
   "cell_type": "code",
   "execution_count": 24,
   "metadata": {},
   "outputs": [
    {
     "data": {
      "text/plain": [
       "0.4082139214097848"
      ]
     },
     "execution_count": 24,
     "metadata": {},
     "output_type": "execute_result"
    }
   ],
   "source": [
    "accuracy_score(y_test, y_pred_NB)"
   ]
  }
 ],
 "metadata": {
  "kernelspec": {
   "display_name": "Python 3",
   "language": "python",
   "name": "python3"
  },
  "language_info": {
   "codemirror_mode": {
    "name": "ipython",
    "version": 3
   },
   "file_extension": ".py",
   "mimetype": "text/x-python",
   "name": "python",
   "nbconvert_exporter": "python",
   "pygments_lexer": "ipython3",
   "version": "3.7.6"
  }
 },
 "nbformat": 4,
 "nbformat_minor": 4
}
